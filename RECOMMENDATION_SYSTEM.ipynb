{
  "nbformat": 4,
  "nbformat_minor": 0,
  "metadata": {
    "colab": {
      "provenance": []
    },
    "kernelspec": {
      "name": "python3",
      "display_name": "Python 3"
    },
    "language_info": {
      "name": "python"
    }
  },
  "cells": [
    {
      "cell_type": "code",
      "source": [
        "#importing the required libraries\n",
        "import numpy as np\n",
        "import pandas as pd\n",
        "import matplotlib.pyplot as plt\n",
        "from sklearn.model_selection import train_test_split\n",
        "from sklearn.metrics.pairwise import cosine_similarity\n",
        "from scipy.sparse.linalg import svds\n",
        "from sklearn.metrics import mean_squared_error\n"
      ],
      "metadata": {
        "id": "tV3YDYS51L3m"
      },
      "execution_count": null,
      "outputs": []
    },
    {
      "cell_type": "code",
      "execution_count": null,
      "metadata": {
        "id": "FpYHsRZB0U2K"
      },
      "outputs": [],
      "source": [
        "# Load dataset (MovieLens)\n",
        "columns = ['userId', 'movieId', 'rating', 'timestamp']\n",
        "df = pd.read_csv('https://files.grouplens.org/datasets/movielens/ml-100k/u.data', sep='\\t', names=columns)\n"
      ]
    },
    {
      "cell_type": "code",
      "source": [
        "# Display first few rows\n",
        "print(df.head())"
      ],
      "metadata": {
        "colab": {
          "base_uri": "https://localhost:8080/"
        },
        "id": "qFRp_ekj1Rcn",
        "outputId": "19521f64-a048-4dae-bb3c-2277b229467f"
      },
      "execution_count": null,
      "outputs": [
        {
          "output_type": "stream",
          "name": "stdout",
          "text": [
            "   userId  movieId  rating  timestamp\n",
            "0     196      242       3  881250949\n",
            "1     186      302       3  891717742\n",
            "2      22      377       1  878887116\n",
            "3     244       51       2  880606923\n",
            "4     166      346       1  886397596\n"
          ]
        }
      ]
    },
    {
      "cell_type": "code",
      "source": [
        "# Drop timestamp column\n",
        "df = df.drop(columns=['timestamp'])"
      ],
      "metadata": {
        "id": "1_SN4-sQ1Ty0"
      },
      "execution_count": null,
      "outputs": []
    },
    {
      "cell_type": "code",
      "source": [
        "# Create user-item matrix\n",
        "user_item_matrix = df.pivot(index='userId', columns='movieId', values='rating')"
      ],
      "metadata": {
        "id": "ygEra1JZ1Uaj"
      },
      "execution_count": null,
      "outputs": []
    },
    {
      "cell_type": "code",
      "source": [
        "# Fill NaN values with 0\n",
        "user_item_matrix.fillna(0, inplace=True)\n",
        "\n",
        "print(user_item_matrix.shape)  # (Users, Movies)"
      ],
      "metadata": {
        "colab": {
          "base_uri": "https://localhost:8080/"
        },
        "id": "MbDyZp2y1ZH8",
        "outputId": "271a508d-1c9f-4e9e-a46a-cb712fce9130"
      },
      "execution_count": null,
      "outputs": [
        {
          "output_type": "stream",
          "name": "stdout",
          "text": [
            "(943, 1682)\n"
          ]
        }
      ]
    },
    {
      "cell_type": "code",
      "source": [
        "matrix = user_item_matrix.values # Convert to numpy array"
      ],
      "metadata": {
        "id": "A_SoMEFm1aWO"
      },
      "execution_count": null,
      "outputs": []
    },
    {
      "cell_type": "code",
      "source": [
        "# Compute SVD\n",
        "U, S, Vt = svds(matrix, k=50)  # Reduce to 50 latent features\n",
        "S = np.diag(S)"
      ],
      "metadata": {
        "id": "uldRpX1i1mwr"
      },
      "execution_count": null,
      "outputs": []
    },
    {
      "cell_type": "code",
      "source": [
        "predicted_ratings = np.dot(np.dot(U, S), Vt) # Reconstruct matrix"
      ],
      "metadata": {
        "id": "zR1WM-FZ1ooT"
      },
      "execution_count": null,
      "outputs": []
    },
    {
      "cell_type": "code",
      "source": [
        "predicted_ratings_df = pd.DataFrame(predicted_ratings, index=user_item_matrix.index, columns=user_item_matrix.columns) # Convert back to DataFrame"
      ],
      "metadata": {
        "id": "ogoJ4y7h1xcj"
      },
      "execution_count": null,
      "outputs": []
    },
    {
      "cell_type": "code",
      "source": [
        "def recommend_movies(user_id, num_recommendations=5):\n",
        "    user_ratings = user_item_matrix.loc[user_id]\n",
        "    sorted_predictions = predicted_ratings_df.loc[user_id].sort_values(ascending=False)\n",
        "\n",
        "    recommendations = sorted_predictions[user_ratings == 0].head(num_recommendations) # Recommend unseen movies\n",
        "    return recommendations\n",
        "\n",
        "print(recommend_movies(1)) # Recommending 5 movies for user 1\n"
      ],
      "metadata": {
        "colab": {
          "base_uri": "https://localhost:8080/"
        },
        "id": "FT6J6dIx1yFD",
        "outputId": "690af601-e32a-41f5-b714-51fabfbcd71e"
      },
      "execution_count": null,
      "outputs": [
        {
          "output_type": "stream",
          "name": "stdout",
          "text": [
            "movieId\n",
            "423    3.480956\n",
            "403    3.107652\n",
            "732    2.901051\n",
            "357    2.767992\n",
            "385    2.608116\n",
            "Name: 1, dtype: float64\n"
          ]
        }
      ]
    },
    {
      "cell_type": "code",
      "source": [
        "# Compute RMSE\n",
        "actual = matrix[matrix.nonzero()].flatten()\n",
        "predicted = predicted_ratings[matrix.nonzero()].flatten()\n",
        "\n",
        "rmse = np.sqrt(mean_squared_error(actual, predicted))\n",
        "print(f\"RMSE: {rmse:.4f}\")\n"
      ],
      "metadata": {
        "colab": {
          "base_uri": "https://localhost:8080/"
        },
        "id": "X3xfhJ6Y154_",
        "outputId": "c4aa9aa3-2007-4b3d-e2d9-e6aa53cf0075"
      },
      "execution_count": null,
      "outputs": [
        {
          "output_type": "stream",
          "name": "stdout",
          "text": [
            "RMSE: 1.8557\n"
          ]
        }
      ]
    }
  ]
}